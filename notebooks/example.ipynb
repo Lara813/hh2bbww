{
 "cells": [
  {
   "cell_type": "code",
   "execution_count": 1,
   "metadata": {},
   "outputs": [],
   "source": [
    "# setup to allow importing from law, order, cmsdb, hbw, and columnflow\n",
    "from setup import setup\n",
    "setup()"
   ]
  },
  {
   "cell_type": "code",
   "execution_count": 2,
   "metadata": {},
   "outputs": [
    {
     "name": "stdout",
     "output_type": "stream",
     "text": [
      "-99999.0\n",
      "{'Jet.eta', 'Jet.pt', 'Jet.mass', 'Jet.phi'}\n"
     ]
    }
   ],
   "source": [
    "# check that imports are working\n",
    "import law\n",
    "import order as od\n",
    "import cmsdb\n",
    "from columnflow.columnar_util import EMPTY_FLOAT\n",
    "from hbw.util import four_vec\n",
    " \n",
    "print(EMPTY_FLOAT)\n",
    "print(four_vec(\"Jet\"))"
   ]
  },
  {
   "cell_type": "code",
   "execution_count": null,
   "metadata": {},
   "outputs": [
    {
     "name": "stderr",
     "output_type": "stream",
     "text": [
      "2023-11-02 14:02:04.074455: I tensorflow/core/platform/cpu_feature_guard.cc:193] This TensorFlow binary is optimized with oneAPI Deep Neural Network Library (oneDNN) to use the following CPU instructions in performance-critical operations:  AVX2 FMA\n",
      "To enable them in other operations, rebuild TensorFlow with the appropriate compiler flags.\n",
      "2023-11-02 14:02:05.510500: W tensorflow/compiler/xla/stream_executor/platform/default/dso_loader.cc:64] Could not load dynamic library 'libcudart.so.11.0'; dlerror: libcudart.so.11.0: cannot open shared object file: No such file or directory\n",
      "2023-11-02 14:02:05.510551: I tensorflow/compiler/xla/stream_executor/cuda/cudart_stub.cc:29] Ignore above cudart dlerror if you do not have a GPU set up on your machine.\n"
     ]
    }
   ],
   "source": [
    "# check that the most important packages are included\n",
    "import awkward as ak\n",
    "import numpy as np\n",
    "import tensorflow as tf\n",
    "\n",
    "print(ak.__version__, np.__version__, tf.__version__)"
   ]
  },
  {
   "cell_type": "code",
   "execution_count": null,
   "metadata": {},
   "outputs": [],
   "source": []
  }
 ],
 "metadata": {
  "kernelspec": {
   "display_name": "cf_ml",
   "language": "python",
   "name": "cf_ml"
  },
  "language_info": {
   "codemirror_mode": {
    "name": "ipython",
    "version": 3
   },
   "file_extension": ".py",
   "mimetype": "text/x-python",
   "name": "python",
   "nbconvert_exporter": "python",
   "pygments_lexer": "ipython3",
   "version": "3.9.18"
  }
 },
 "nbformat": 4,
 "nbformat_minor": 4
}
